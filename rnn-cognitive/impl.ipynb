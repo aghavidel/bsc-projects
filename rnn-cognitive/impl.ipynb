{
  "nbformat": 4,
  "nbformat_minor": 2,
  "metadata": {
    "colab": {
      "name": "Untitled0.ipynb",
      "version": "0.3.2",
      "provenance": [],
      "collapsed_sections": []
    },
    "kernelspec": {
      "name": "python3",
      "display_name": "Python 3"
    },
    "accelerator": "GPU"
  },
  "cells": [
    {
      "cell_type": "code",
      "execution_count": null,
      "source": [
        "import torch\r\n",
        "import torch.nn as nn\r\n",
        "import torch.functional as F\r\n",
        "from torch.autograd import Variable\r\n",
        "import numpy as np\r\n",
        "from torch import optim\r\n",
        "from matplotlib import pyplot as plt"
      ],
      "outputs": [],
      "metadata": {
        "id": "VEYO1NpspSHU",
        "colab_type": "code",
        "colab": {}
      }
    },
    {
      "cell_type": "markdown",
      "source": [
        "## Revising previous RNN model"
      ],
      "metadata": {
        "id": "B8WZEReCueLu",
        "colab_type": "text"
      }
    },
    {
      "cell_type": "code",
      "execution_count": null,
      "source": [
        "# alpha = 0.2 # Extracted from tha parameter tables in the paper\r\n",
        "alpha = 0.5\r\n",
        "class rectifiedRNN(nn.Module):\r\n",
        "    def __init__(self, input_size, hidden_size, output_size):\r\n",
        "        super(rectifiedRNN, self).__init__()\r\n",
        "        self.input_size = input_size\r\n",
        "        self.hidden_size = hidden_size\r\n",
        "        self.output_size = output_size\r\n",
        "\r\n",
        "        self.fc_ih = nn.Linear(input_size, hidden_size)\r\n",
        "        self.fc_hh = nn.Linear(hidden_size, hidden_size)\r\n",
        "        self.fc_ho = nn.Linear(hidden_size, output_size)\r\n",
        "        \r\n",
        "        # D matrix\r\n",
        "        diag = torch.ones(hidden_size)\r\n",
        "        # we assume that almost 20% of the weights are inhibitory, so....\r\n",
        "        n_inhibit = hidden_size // 5 + 1\r\n",
        "        diag[0:n_inhibit - 1] = -1\r\n",
        "        self.D = torch.diag(diag)\r\n",
        "        \r\n",
        "    def segregate_weights(self, W_hh):\r\n",
        "        for i in range(self.hidden_size):\r\n",
        "            W_hh[i, i] = 0.0\r\n",
        "            W_hh_corrected = torch.matmul(torch.abs(W_hh), self.D)\r\n",
        "        W_hh = 0.5 * (W_hh + W_hh_corrected)\r\n",
        "        \r\n",
        "        return W_hh\r\n",
        "        \r\n",
        "    def forward(self, input_data, hidden):\r\n",
        "        new_weight = self.segregate_weights(self.fc_hh.weight)\r\n",
        "        self.fc_hh.weight = torch.nn.Parameter(new_weight)\r\n",
        "        hidden_next = torch.tanh((1 - alpha) * hidden + alpha * (self.fc_ih(input_data) + self.fc_hh(torch.tanh(hidden))))\r\n",
        "        output = torch.tanh(self.fc_ho(hidden_next))\r\n",
        "        hidden = hidden_next\r\n",
        "        \r\n",
        "        return (output, hidden)"
      ],
      "outputs": [],
      "metadata": {
        "id": "u9DeDdQ4pY5V",
        "colab_type": "code",
        "colab": {}
      }
    },
    {
      "cell_type": "markdown",
      "source": [
        "## Task one: Preceptual decision making"
      ],
      "metadata": {
        "id": "qAw7_1ARuktM",
        "colab_type": "text"
      }
    },
    {
      "cell_type": "markdown",
      "source": [
        "# Dataset for fixed period"
      ],
      "metadata": {
        "id": "InFSTVlhuvtk",
        "colab_type": "text"
      }
    },
    {
      "cell_type": "markdown",
      "source": [
        "First, we need to create a dataset for this task.\r\n",
        "\r\n",
        "This dataset will contain a series of fixed duration pulses in two different levels. Some noise will also be added to them to make them more *real*."
      ],
      "metadata": {}
    },
    {
      "cell_type": "code",
      "execution_count": null,
      "source": [
        "dc_1 = 6 + (2 * torch.rand(1) - 1)\r\n",
        "dc_2 = 8 + (2 * torch.rand(1) - 1)\r\n",
        "\r\n",
        "DC_values = torch.tensor([dc_1, dc_2])\r\n",
        "\r\n",
        "noise_1 = 0.5 * torch.randn((10000, 1))\r\n",
        "noise_2 = 0.5 * torch.randn((10000, 1))\r\n",
        "\r\n",
        "number_of_tests = 100\r\n",
        "stimulus_time = 0.8 * (10000 // number_of_tests)\r\n",
        "total_time = 10000 // number_of_tests\r\n",
        "# for each trial, a signal starts from 0, until 10% of its total time\r\n",
        "# then the stimulus begins, then finishes at about 90% of the total time\r\n",
        "# then once again it bocomes silent for the remaining 10%\r\n",
        "s1 = torch.zeros((10000, 1))\r\n",
        "s2 = torch.zeros((10000, 1))\r\n",
        "target = torch.zeros((10000, 2))\r\n",
        "\r\n",
        "for i in range(10000):\r\n",
        "    if (i % total_time) <= (0.1 * total_time) :\r\n",
        "        s1[i, 0] = noise_1[i, 0]\r\n",
        "        s2[i, 0] = noise_2[i, 0]\r\n",
        "        picked = False\r\n",
        "    elif (0.1 * total_time) <= i % total_time <= (0.9 * total_time) :\r\n",
        "        if picked is False:\r\n",
        "            pick_index = torch.randint(0, 2, (1, 1))\r\n",
        "            picked = True\r\n",
        "            dc_1 = 6 + (2 * torch.rand(1) - 1)\r\n",
        "            dc_2 = 8 + (2 * torch.rand(1) - 1)\r\n",
        "            DC_values = torch.tensor([dc_1, dc_2])\r\n",
        "\r\n",
        "        \r\n",
        "        if (pick_index == 0) :\r\n",
        "            s1[i, 0] = noise_1[i, 0] + DC_values[0]\r\n",
        "            s2[i, 0] = noise_2[i, 0] + DC_values[1]\r\n",
        "            \r\n",
        "            target[i, 0] = 0\r\n",
        "            target[i, 1] = 1\r\n",
        "        else :\r\n",
        "            s1[i, 0] = noise_1[i, 0] + DC_values[1]\r\n",
        "            s2[i, 0] = noise_2[i, 0] + DC_values[0]\r\n",
        "            \r\n",
        "            target[i, 0] = 1\r\n",
        "            target[i, 1] = 0\r\n",
        "    \r\n",
        "    else:\r\n",
        "        s1[i, 0] = noise_1[i, 0]\r\n",
        "        s2[i, 0] = noise_2[i, 0]\r\n",
        "        picked = False\r\n",
        "        "
      ],
      "outputs": [],
      "metadata": {
        "id": "-5rYAlXwplb9",
        "colab_type": "code",
        "colab": {}
      }
    },
    {
      "cell_type": "code",
      "execution_count": 6,
      "source": [
        "plt.plot(s1[5 * total_time:10 * total_time].numpy())\r\n",
        "plt.plot( s2[5 * total_time:10 * total_time].numpy())\r\n",
        "plt.title('dataset sample for fixed period')"
      ],
      "outputs": [
        {
          "output_type": "execute_result",
          "data": {
            "text/plain": [
              "Text(0.5, 1.0, 'dataset sample for fixed period')"
            ]
          },
          "metadata": {
            "tags": []
          },
          "execution_count": 6
        },
        {
          "output_type": "display_data",
          "data": {
            "image/png": "[encoded data removed]",
            "text/plain": [
              "<Figure size 432x288 with 1 Axes>"
            ]
          },
          "metadata": {
            "tags": []
          }
        }
      ],
      "metadata": {
        "id": "9hAR7JnKi8dE",
        "colab_type": "code",
        "colab": {
          "base_uri": "https://localhost:8080/",
          "height": 298
        },
        "outputId": "fa700110-96b2-408c-87dc-f185e5c81cf5"
      }
    },
    {
      "cell_type": "markdown",
      "source": [
        "## Parameters and optimizers"
      ],
      "metadata": {}
    },
    {
      "cell_type": "code",
      "execution_count": null,
      "source": [
        "lr = 0.001\r\n",
        "number_of_epochs = 3\r\n",
        "net = rectifiedRNN(2, 20, 2)\r\n",
        "criterion = nn.MSELoss()\r\n",
        "optimizer = optim.SGD(net.parameters(), lr)"
      ],
      "outputs": [],
      "metadata": {
        "id": "XTZ2-85EqpCl",
        "colab_type": "code",
        "colab": {}
      }
    },
    {
      "cell_type": "code",
      "execution_count": null,
      "source": [
        "runing_loss = 0.0\r\n",
        "loss_list = list()\r\n",
        "window = 50\r\n",
        "batch_size = total_time\r\n",
        "\r\n",
        "for epoch in range(number_of_epochs):\r\n",
        "    for i in range(50):\r\n",
        "      hidden = torch.zeros(20)\r\n",
        "      for t in range(total_time):\r\n",
        "        optimizer.zero_grad()\r\n",
        "        (output, hidden) = net(torch.tensor([s1[i * total_time + t, 0], s2[i * total_time + t, 0]]), hidden)\r\n",
        "        loss = criterion(output, target[i * total_time + t, :])\r\n",
        "        hidden.detach_()\r\n",
        "        loss.backward()      \r\n",
        "        optimizer.step()\r\n",
        "        loss_list.append(loss.data)\r\n",
        "        runing_loss = 0.0"
      ],
      "outputs": [],
      "metadata": {
        "id": "QoTdCtRtA-0C",
        "colab_type": "code",
        "colab": {}
      }
    },
    {
      "cell_type": "code",
      "execution_count": null,
      "source": [
        "window = 40\r\n",
        "mean_loss = list()\r\n",
        "for i in range(len(loss_list) // window):\r\n",
        "  temp = 0\r\n",
        "  for j in range(window):\r\n",
        "    temp += loss_list[i * window + j]\r\n",
        "  temp /= window\r\n",
        "  mean_loss.append(temp)\r\n",
        "  \r\n",
        "plt.plot(mean_loss)"
      ],
      "outputs": [],
      "metadata": {
        "id": "8Jcn5gDVPhK6",
        "colab_type": "code",
        "colab": {}
      }
    },
    {
      "cell_type": "code",
      "execution_count": null,
      "source": [
        "# runing_loss = 0.0\r\n",
        "# loss_list = list()\r\n",
        "window = 50\r\n",
        "sample = 35\r\n",
        "batch_size = total_time\r\n",
        "output_list = list()\r\n",
        "hidden = torch.zeros(20)\r\n",
        "for k in range(5):\r\n",
        "  hidden = torch.zeros(20)\r\n",
        "  for i in range(total_time):\r\n",
        "    stim1 = s1[(sample + k) * total_time + i, 0]\r\n",
        "    stim2 = s2[(sample + k) * total_time + i, 0]\r\n",
        "    d = target[(sample + k) * total_time + i, :]\r\n",
        "    (out, hidden) = net(torch.tensor([stim1, stim2]), hidden)\r\n",
        "    output_list.append(out.data.numpy())\r\n",
        "  "
      ],
      "outputs": [],
      "metadata": {
        "id": "VWgVXy4Y0vY4",
        "colab_type": "code",
        "colab": {}
      }
    },
    {
      "cell_type": "code",
      "execution_count": null,
      "source": [
        "plt.plot(output_list)\r\n",
        "plt.title('output for test data')"
      ],
      "outputs": [],
      "metadata": {
        "id": "uHjcdUYEPexF",
        "colab_type": "code",
        "colab": {}
      }
    },
    {
      "cell_type": "code",
      "execution_count": null,
      "source": [
        "plt.plot(target[sample * total_time: (sample + 5) * total_time, :].numpy())\r\n",
        "plt.title('correct output for test data')"
      ],
      "outputs": [],
      "metadata": {
        "id": "onrxE3_luMGX",
        "colab_type": "code",
        "colab": {}
      }
    },
    {
      "cell_type": "code",
      "execution_count": null,
      "source": [
        "plt.plot(s1[sample * total_time : (sample + 5) * total_time, :].numpy())\r\n",
        "plt.plot(s2[sample * total_time : (sample + 5) * total_time, :].numpy())\r\n",
        "plt.title('input test data')"
      ],
      "outputs": [],
      "metadata": {
        "id": "ajxGIsKgz9_f",
        "colab_type": "code",
        "colab": {}
      }
    },
    {
      "cell_type": "code",
      "execution_count": null,
      "source": [
        "layers = [x.data for x in net.parameters()]"
      ],
      "outputs": [],
      "metadata": {
        "id": "wh4EBlphm5VQ",
        "colab_type": "code",
        "colab": {}
      }
    },
    {
      "cell_type": "code",
      "execution_count": null,
      "source": [
        "plt.imshow(layers[2].numpy())\r\n",
        "plt.title('network weight matrix')"
      ],
      "outputs": [],
      "metadata": {
        "id": "-MjTJXru0YS1",
        "colab_type": "code",
        "colab": {}
      }
    },
    {
      "cell_type": "code",
      "execution_count": null,
      "source": [
        "# runing_loss = 0.0\r\n",
        "# loss_list = list()\r\n",
        "window = 50\r\n",
        "sample = 20\r\n",
        "batch_size = total_time\r\n",
        "output_list = list()\r\n",
        "hidden = torch.zeros(20)\r\n",
        "for k in range(40):\r\n",
        "  hidden = torch.zeros(20)\r\n",
        "  temp = torch.zeros(2)\r\n",
        "  for i in range(total_time):\r\n",
        "    stim1 = s1[(sample + k) * total_time + i, 0]\r\n",
        "    stim2 = s2[(sample + k) * total_time + i, 0]\r\n",
        "    d = target[(sample + k) * total_time + i, :]\r\n",
        "    (out, hidden) = net(torch.tensor([stim1, stim2]), hidden)\r\n",
        "    \r\n",
        "    if i >= total_time * 0.1 and i < total_time * 0.9:\r\n",
        "      temp += out\r\n",
        "    \r\n",
        "  output_list.append((temp / (total_time * 0.8)).data.numpy())\r\n",
        "  \r\n",
        "for i in range(len(output_list)):\r\n",
        "  if output_list[i][0] > output_list[i][1]:\r\n",
        "    output_list[i][0] = 1\r\n",
        "    output_list[i][1] = 0\r\n",
        "  else:\r\n",
        "    output_list[i][0] = 0\r\n",
        "    output_list[i][1] = 1"
      ],
      "outputs": [],
      "metadata": {
        "id": "kBYjidhmNmA0",
        "colab_type": "code",
        "colab": {}
      }
    },
    {
      "cell_type": "markdown",
      "source": [
        "## Preceptual decision making dataset for variable duration"
      ],
      "metadata": {
        "id": "qY6DCwcbvV6R",
        "colab_type": "text"
      }
    },
    {
      "cell_type": "code",
      "execution_count": null,
      "source": [
        "dc_1 = 6 + (2 * torch.rand(1) - 1)\r\n",
        "dc_2 = 8 + (2 * torch.rand(1) - 1)\r\n",
        "\r\n",
        "DC_values = torch.tensor([dc_1, dc_2])\r\n",
        "\r\n",
        "noise_1 = 0.5 * torch.randn((10000, 1))\r\n",
        "noise_2 = 0.5 * torch.randn((10000, 1))\r\n",
        "\r\n",
        "number_of_tests = 100\r\n",
        "stimulus_time = 0.8 * (10000 // number_of_tests)\r\n",
        "total_time = 10000 // number_of_tests\r\n",
        "# for each trial, a signal starts from 0, until 10% of its total time\r\n",
        "# then the stimulus begins, then finishes at about 90% of the total time\r\n",
        "# then once again it bocomes silent for the remaining 10%\r\n",
        "s1 = torch.zeros((10000, 1))\r\n",
        "s2 = torch.zeros((10000, 1))\r\n",
        "target = torch.zeros((10000, 2))\r\n",
        "period = 30 + torch.randint(0, 71, (1, 1))\r\n",
        "\r\n",
        "for i in range(10000):\r\n",
        "    if (i % total_time) <= (0.1 * total_time) :\r\n",
        "        s1[i, 0] = noise_1[i, 0]\r\n",
        "        s2[i, 0] = noise_2[i, 0]\r\n",
        "        picked = False\r\n",
        "    elif (0.1 * total_time) <= i % total_time <= period + 1 :\r\n",
        "        if picked is False:\r\n",
        "            period = 30 + torch.randint(0, 71, (1, 1))\r\n",
        "            pick_index = torch.randint(0, 2, (1, 1))\r\n",
        "            picked = True\r\n",
        "            dc_1 = 6 + (2 * torch.rand(1) - 1)\r\n",
        "            dc_2 = 8 + (2 * torch.rand(1) - 1)\r\n",
        "            DC_values = torch.tensor([dc_1, dc_2])\r\n",
        "\r\n",
        "        \r\n",
        "        if (pick_index == 0) :\r\n",
        "            s1[i, 0] = noise_1[i, 0] + DC_values[0]\r\n",
        "            s2[i, 0] = noise_2[i, 0] + DC_values[1]\r\n",
        "            \r\n",
        "            target[i, 0] = 0\r\n",
        "            target[i, 1] = 1\r\n",
        "        else :\r\n",
        "            s1[i, 0] = noise_1[i, 0] + DC_values[1]\r\n",
        "            s2[i, 0] = noise_2[i, 0] + DC_values[0]\r\n",
        "            \r\n",
        "            target[i, 0] = 1\r\n",
        "            target[i, 1] = 0\r\n",
        "    \r\n",
        "    else:\r\n",
        "        s1[i, 0] = noise_1[i, 0]\r\n",
        "        s2[i, 0] = noise_2[i, 0]\r\n",
        "        picked = False\r\n",
        "        "
      ],
      "outputs": [],
      "metadata": {
        "id": "BtVsAvDO0dIL",
        "colab_type": "code",
        "colab": {}
      }
    },
    {
      "cell_type": "code",
      "execution_count": 9,
      "source": [
        "plt.plot(s1[5 * total_time:10 * total_time].numpy())\r\n",
        "plt.plot( s2[5 * total_time:10 * total_time].numpy())\r\n",
        "plt.title('Variable duration dataset sample')"
      ],
      "outputs": [
        {
          "output_type": "execute_result",
          "data": {
            "text/plain": [
              "Text(0.5, 1.0, 'Variable duration dataset sample')"
            ]
          },
          "metadata": {
            "tags": []
          },
          "execution_count": 9
        },
        {
          "output_type": "display_data",
          "data": {
            "image/png": "[encoded data removed]",
            "text/plain": [
              "<Figure size 432x288 with 1 Axes>"
            ]
          },
          "metadata": {
            "tags": []
          }
        }
      ],
      "metadata": {
        "id": "SAX6H2Wh9h68",
        "colab_type": "code",
        "colab": {
          "base_uri": "https://localhost:8080/",
          "height": 298
        },
        "outputId": "90a1aaec-10ca-42cd-95d7-98cf51a74713"
      }
    },
    {
      "cell_type": "code",
      "execution_count": null,
      "source": [
        "lr = 0.001\r\n",
        "number_of_epochs = 5\r\n",
        "net = rectifiedRNN(2, 20, 2)\r\n",
        "criterion = nn.MSELoss()\r\n",
        "optimizer = optim.SGD(net.parameters(), lr)"
      ],
      "outputs": [],
      "metadata": {
        "id": "RthS1IRbAjQm",
        "colab_type": "code",
        "colab": {}
      }
    },
    {
      "cell_type": "code",
      "execution_count": null,
      "source": [
        "runing_loss = 0.0\r\n",
        "loss_list = list()\r\n",
        "window = 50\r\n",
        "batch_size = total_time\r\n",
        "\r\n",
        "for epoch in range(number_of_epochs):\r\n",
        "    for i in range(50):\r\n",
        "      hidden = torch.zeros(20)\r\n",
        "      for t in range(total_time):\r\n",
        "        optimizer.zero_grad()\r\n",
        "\r\n",
        "#       for b in range(batch_size):\r\n",
        "#         net.reinit_hidden()\r\n",
        "        (output, hidden) = net(torch.tensor([s1[i * total_time + t, 0], s2[i * total_time + t, 0]]), hidden)\r\n",
        "        loss = criterion(output, target[i * total_time + t, :])\r\n",
        "#         runing_loss += loss.data\r\n",
        "        hidden.detach_()\r\n",
        "        loss.backward()      \r\n",
        "        optimizer.step()\r\n",
        "#         if i % window == 0 :\r\n",
        "        loss_list.append(loss.data)\r\n",
        "        runing_loss = 0.0\r\n",
        "      \r\n",
        "#       print(i)"
      ],
      "outputs": [],
      "metadata": {
        "id": "qzmZp7Y8AzFY",
        "colab_type": "code",
        "colab": {}
      }
    },
    {
      "cell_type": "code",
      "execution_count": null,
      "source": [
        "# runing_loss = 0.0\r\n",
        "# loss_list = list()\r\n",
        "window = 50\r\n",
        "sample = 35\r\n",
        "batch_size = total_time\r\n",
        "output_list = list()\r\n",
        "hidden = torch.zeros(20)\r\n",
        "for k in range(5):\r\n",
        "  hidden = torch.zeros(20)\r\n",
        "  for i in range(total_time):\r\n",
        "    stim1 = s1[(sample + k) * total_time + i, 0]\r\n",
        "    stim2 = s2[(sample + k) * total_time + i, 0]\r\n",
        "    d = target[(sample + k) * total_time + i, :]\r\n",
        "    (out, hidden) = net(torch.tensor([stim1, stim2]), hidden)\r\n",
        "    output_list.append(out.data.numpy())\r\n",
        "  "
      ],
      "outputs": [],
      "metadata": {
        "id": "RSMvl8FlA2Qs",
        "colab_type": "code",
        "colab": {}
      }
    },
    {
      "cell_type": "code",
      "execution_count": null,
      "source": [
        "plt.plot(output_list)\r\n",
        "plt.title('output for test data')"
      ],
      "outputs": [],
      "metadata": {
        "id": "JnU8u8dkA77f",
        "colab_type": "code",
        "colab": {}
      }
    },
    {
      "cell_type": "code",
      "execution_count": null,
      "source": [
        "plt.plot(target[sample * total_time: (sample + 5) * total_time, :].numpy())\r\n",
        "plt.title('correct output for test data')"
      ],
      "outputs": [],
      "metadata": {
        "id": "bXdrao4-A_Ub",
        "colab_type": "code",
        "colab": {}
      }
    },
    {
      "cell_type": "code",
      "execution_count": null,
      "source": [
        "plt.plot(s1[sample * total_time : (sample + 5) * total_time, :].numpy())\r\n",
        "plt.plot(s2[sample * total_time : (sample + 5) * total_time, :].numpy())\r\n",
        "plt.title('input test data')"
      ],
      "outputs": [],
      "metadata": {
        "id": "HGELdUdxBHnW",
        "colab_type": "code",
        "colab": {}
      }
    },
    {
      "cell_type": "code",
      "execution_count": null,
      "source": [
        "layers = [x.data for x in net.parameters()]\r\n",
        "plt.imshow(layers[2].numpy())\r\n",
        "plt.title('network weight matrix')"
      ],
      "outputs": [],
      "metadata": {
        "id": "xNc7EABkB8UA",
        "colab_type": "code",
        "colab": {}
      }
    },
    {
      "cell_type": "markdown",
      "source": [
        "## Working memory Task"
      ],
      "metadata": {
        "id": "U54V7uZXvOyv",
        "colab_type": "text"
      }
    },
    {
      "cell_type": "code",
      "execution_count": null,
      "source": [
        "total_time = 100\r\n",
        "silence_1 = 25\r\n",
        "stim_1 = 50\r\n",
        "silence_2 = 75\r\n",
        "number_of_trials = 100\r\n",
        "\r\n",
        "WM_dataset = torch.zeros(total_time * number_of_trials, 1)\r\n",
        "WM_target = torch.zeros(total_time * number_of_trials, 2)\r\n",
        "\r\n",
        "abs_noise = torch.abs(0.3 * torch.randn(total_time * number_of_trials, 1))\r\n",
        "noise = 0.3 * torch.randn(total_time * number_of_trials, 1)\r\n",
        "\r\n",
        "dc_1 = 4 + (8 * torch.rand(1) - 4)\r\n",
        "dc_2 = 12 + (8 * torch.rand(1) - 4)\r\n",
        "\r\n",
        "DC_values = torch.tensor([dc_1, dc_2])\r\n",
        "index = torch.randint(0, 2, (1, 1))\r\n",
        "\r\n",
        "\r\n",
        "for i in range(number_of_trials):\r\n",
        "    dc_1 = 4 + (8 * torch.rand(1) - 4)\r\n",
        "    dc_2 = 12 + (8 * torch.rand(1) - 4)\r\n",
        "\r\n",
        "    DC_values = torch.tensor([dc_1, dc_2])\r\n",
        "    for t in range(total_time):\r\n",
        "        if t < silence_1 :\r\n",
        "            pick_index = True\r\n",
        "            WM_dataset[i * total_time + t, 0] = abs_noise[i * total_time + t, 0]\r\n",
        "        elif t >= silence_1 and t < stim_1 :\r\n",
        "            if pick_index is True :\r\n",
        "                index = torch.randint(0, 2, (1, 1))\r\n",
        "                pick_index = False\r\n",
        "            WM_dataset[i * total_time + t, 0] = DC_values[index] + noise[i * total_time + t, 0]\r\n",
        "        elif t >= stim_1 and t < silence_2 :\r\n",
        "            WM_dataset[i * total_time + t, 0] = abs_noise[i * total_time + t, 0]\r\n",
        "        else :\r\n",
        "            if index == 0:\r\n",
        "                WM_dataset[i * total_time + t, 0] = noise[i * total_time + t, 0] + DC_values[1]\r\n",
        "                WM_target[i * total_time + t, :] = torch.tensor([0, 1])\r\n",
        "            else :\r\n",
        "                WM_dataset[i * total_time + t, 0] = noise[i * total_time + t, 0] + DC_values[0]\r\n",
        "                WM_target[i * total_time + t, :] = torch.tensor([1, 0])\r\n",
        "        \r\n",
        "            \r\n",
        "            "
      ],
      "outputs": [],
      "metadata": {
        "id": "NMwOh4U0CFmF",
        "colab_type": "code",
        "colab": {}
      }
    },
    {
      "cell_type": "code",
      "execution_count": 29,
      "source": [
        "plt.plot(WM_dataset[9 * total_time : 12 * total_time].numpy())\r\n",
        "plt.plot(WM_target[9 * total_time : 12 * total_time].numpy())\r\n",
        "plt.title('Working memory dataset sample')\r\n",
        "plt.legend(['input data', 'output target 1', 'output target 2'])"
      ],
      "outputs": [
        {
          "output_type": "execute_result",
          "data": {
            "text/plain": [
              "<matplotlib.legend.Legend at 0x7f1006a9ea90>"
            ]
          },
          "metadata": {
            "tags": []
          },
          "execution_count": 29
        },
        {
          "output_type": "display_data",
          "data": {
            "image/png": "[encoded data removed]",
            "text/plain": [
              "<Figure size 432x288 with 1 Axes>"
            ]
          },
          "metadata": {
            "tags": []
          }
        }
      ],
      "metadata": {
        "id": "2N-MnL_aIEbK",
        "colab_type": "code",
        "colab": {
          "base_uri": "https://localhost:8080/",
          "height": 298
        },
        "outputId": "86330e33-b783-456c-b1d5-d54b54372a07"
      }
    },
    {
      "cell_type": "code",
      "execution_count": null,
      "source": [
        "number_of_hidden = 10\r\n",
        "net = rectifiedRNN(1, number_of_hidden, 2)\r\n",
        "lr = 0.001\r\n",
        "optimizer = optim.Adam(net.parameters(), lr)\r\n",
        "criterion = nn.MSELoss()\r\n",
        "number_of_epochs = 5"
      ],
      "outputs": [],
      "metadata": {
        "id": "prQtWy1bIHpn",
        "colab_type": "code",
        "colab": {}
      }
    },
    {
      "cell_type": "code",
      "execution_count": null,
      "source": [
        "loss_list = list()\r\n",
        "batch_size = 25\r\n",
        "\r\n",
        "optimizer.zero_grad()\r\n",
        "\r\n",
        "for epoch in range(number_of_epochs):\r\n",
        "  for trial in range(number_of_trials):\r\n",
        "    hidden = torch.zeros(number_of_hidden)\r\n",
        "    for t in range(100):\r\n",
        "      (output, hidden) = net(WM_dataset[trial * 100 + t, :], hidden)\r\n",
        "      loss = criterion(output, WM_target[trial * 100 + t, :])\r\n",
        "      hidden.detach_()\r\n",
        "      loss.backward()\r\n",
        "      \r\n",
        "      if(t % batch_size == 0):\r\n",
        "        optimizer.step()\r\n",
        "        optimizer.zero_grad()\r\n",
        "        loss_list.append(loss)\r\n",
        "      "
      ],
      "outputs": [],
      "metadata": {
        "id": "U6FJ37HNIYgN",
        "colab_type": "code",
        "colab": {}
      }
    },
    {
      "cell_type": "code",
      "execution_count": 8,
      "source": [
        "plt.plot(loss_list)"
      ],
      "outputs": [
        {
          "output_type": "execute_result",
          "data": {
            "text/plain": [
              "[<matplotlib.lines.Line2D at 0x7f1006ebfcf8>]"
            ]
          },
          "metadata": {
            "tags": []
          },
          "execution_count": 8
        },
        {
          "output_type": "display_data",
          "data": {
            "image/png": "[encoded data removed]",
            "text/plain": [
              "<Figure size 432x288 with 1 Axes>"
            ]
          },
          "metadata": {
            "tags": []
          }
        }
      ],
      "metadata": {
        "id": "4b7mQJbaK3D5",
        "colab_type": "code",
        "colab": {
          "base_uri": "https://localhost:8080/",
          "height": 286
        },
        "outputId": "a877759e-80d7-41d7-ab39-accff0d9422d"
      }
    },
    {
      "cell_type": "code",
      "execution_count": null,
      "source": [
        "# runing_loss = 0.0\r\n",
        "# loss_list = list()\r\n",
        "window = 50\r\n",
        "sample = 20\r\n",
        "batch_size = total_time\r\n",
        "output_list = list()\r\n",
        "hidden = torch.zeros(number_of_hidden)\r\n",
        "for k in range(80):\r\n",
        "  hidden = torch.zeros(number_of_hidden)\r\n",
        "  for i in range(total_time):\r\n",
        "    stim = WM_dataset[(sample + k) * total_time + i, :]\r\n",
        "    d = WM_target[(sample + k) * total_time + i, :]\r\n",
        "    (out, hidden) = net(stim, hidden)\r\n",
        "    output_list.append(out.data.numpy())\r\n",
        "  "
      ],
      "outputs": [],
      "metadata": {
        "id": "qBHNqdWPJPn2",
        "colab_type": "code",
        "colab": {}
      }
    },
    {
      "cell_type": "code",
      "execution_count": null,
      "source": [
        "# runing_loss = 0.0\r\n",
        "# loss_list = list()\r\n",
        "window = 50\r\n",
        "sample = 20\r\n",
        "batch_size = total_time\r\n",
        "target_list = list()\r\n",
        "hidden = torch.zeros(number_of_hidden)\r\n",
        "for k in range(80):\r\n",
        "#   hidden = torch.zeros(number_of_hidden)\r\n",
        "  for i in range(total_time):\r\n",
        "#     stim = WM_dataset[(sample + k) * total_time + i, :]\r\n",
        "    d = WM_target[(sample + k) * total_time + i, :]\r\n",
        "#     (out, hidden) = net(stim, hidden)\r\n",
        "#     output_list.append(out.data.numpy())\r\n",
        "    target_list.append(d.numpy())\r\n",
        "# plt.plot(target_list)"
      ],
      "outputs": [],
      "metadata": {
        "id": "X2zAyN8YKdWV",
        "colab_type": "code",
        "colab": {}
      }
    },
    {
      "cell_type": "code",
      "execution_count": 26,
      "source": [
        "output_compare = torch.zeros(80, 2)\r\n",
        "\r\n",
        "for i in range(80):\r\n",
        "  if output_list[i * 100 + 83][0] > output_list[i * 100 + 83][1] :\r\n",
        "    output_compare[i, :] = torch.tensor([1, 0])\r\n",
        "  else :\r\n",
        "    output_compare[i, :] = torch.tensor([0, 1])\r\n",
        "    \r\n",
        "# plt.plot(output_compare.numpy())\r\n",
        "true = 0\r\n",
        "\r\n",
        "for i in range(80):\r\n",
        "  if output_compare[i, :].numpy().all() == target_list[i * 100 + 83][:].all():\r\n",
        "    true += 1\r\n",
        "    \r\n",
        "print('accuracy is :', int(true / 80 * 100), ' percent')"
      ],
      "outputs": [
        {
          "output_type": "stream",
          "name": "stdout",
          "text": [
            "accuracy is : 100  percent\n"
          ]
        }
      ],
      "metadata": {
        "id": "y2ctkJvNJkpX",
        "colab_type": "code",
        "colab": {
          "base_uri": "https://localhost:8080/",
          "height": 34
        },
        "outputId": "9e412150-30d6-4c82-c82e-1215758c6da6"
      }
    },
    {
      "cell_type": "code",
      "execution_count": 28,
      "source": [
        "layers = [x.data for x in net.parameters()]\r\n",
        "plt.imshow(layers[2].numpy())\r\n",
        "plt.title('network weight matrix')"
      ],
      "outputs": [
        {
          "output_type": "execute_result",
          "data": {
            "text/plain": [
              "Text(0.5, 1.0, 'network weight matrix')"
            ]
          },
          "metadata": {
            "tags": []
          },
          "execution_count": 28
        },
        {
          "output_type": "display_data",
          "data": {
            "image/png": "[encoded data removed]",
            "text/plain": [
              "<Figure size 432x288 with 1 Axes>"
            ]
          },
          "metadata": {
            "tags": []
          }
        }
      ],
      "metadata": {
        "id": "PlByzie5LwsN",
        "colab_type": "code",
        "colab": {
          "base_uri": "https://localhost:8080/",
          "height": 298
        },
        "outputId": "fa2ccbfe-9224-44b0-ce04-26e88e1f100a"
      }
    },
    {
      "cell_type": "markdown",
      "source": [
        "## Sequence execution task"
      ],
      "metadata": {
        "id": "ZAwJKplI7HOd",
        "colab_type": "text"
      }
    },
    {
      "cell_type": "code",
      "execution_count": null,
      "source": [
        "# we need 9 dot inputs and 8 sequence inputs\r\n",
        "# so every slice of dataset is 17 units\r\n",
        "# every trial has 5 moves, a rest, a set, and three decisions\r\n",
        "# we conduct 100 trials, so we need a 100 * 5 * 17 tensor\r\n",
        "# for target values, we observe x-y coordinates, these are extracted from the sequence number by hand\r\n",
        "# the target tensor is a 100 * 5 * 2 tensor\r\n",
        "\r\n",
        "number_of_trials = 100\r\n",
        "\r\n",
        "SEQ_dataset = torch.zeros(100, 5, 17)\r\n",
        "SEQ_target = torch.zeros(100, 5, 2)\r\n",
        "\r\n",
        "# these are the target x-y values for every sequence\r\n",
        "\r\n",
        "seq_x = torch.zeros(8, 5)\r\n",
        "seq_x[0, :] = torch.tensor([0, 0, 1, 0, -1])\r\n",
        "seq_x[1, :] = torch.tensor([0, 0, -1, 0, 1])\r\n",
        "seq_x[2, :] = torch.tensor([0, 0, -1, 0, 1])\r\n",
        "seq_x[3, :] = torch.tensor([0, 0, 1, 0, -1])\r\n",
        "seq_x[4, :] = torch.tensor([0, 0, 1, 0, 1])\r\n",
        "seq_x[5, :] = torch.tensor([0, 0, -1, 0, -1])\r\n",
        "seq_x[6, :] = torch.tensor([0, 0, -1, 0, -1])\r\n",
        "seq_x[7, :] = torch.tensor([0, 0, 1, 0, 1])\r\n",
        "\r\n",
        "seq_y = torch.zeros(8, 5)\r\n",
        "seq_y[0, :] = torch.tensor([0, 0, 0, 1, 1])\r\n",
        "seq_y[1, :] = torch.tensor([0, 0, 0, 1, 1])\r\n",
        "seq_y[2, :] = torch.tensor([0, 0, 0, -1, -1])\r\n",
        "seq_y[3, :] = torch.tensor([0, 0, 0, -1, -1])\r\n",
        "seq_y[4, :] = torch.tensor([0, 0, 0, 1, 1])\r\n",
        "seq_y[5, :] = torch.tensor([0, 0, 0, 1, 1])\r\n",
        "seq_y[6, :] = torch.tensor([0, 0, 0, -1, -1])\r\n",
        "seq_y[7, :] = torch.tensor([0, 0, 0, -1, -1])\r\n",
        "\r\n",
        "# each sequence corresponds with a dot sequence in input\r\n",
        "dot_sequence = torch.zeros(8, 5, 9)\r\n",
        "\r\n",
        "def to_one_hot(input_number):\r\n",
        "    one_hot_out = torch.zeros(9)\r\n",
        "    one_hot_out[input_number - 1] = 1\r\n",
        "    \r\n",
        "    return one_hot_out\r\n",
        "    \r\n",
        "target = torch.zeros(8, 5, 2)\r\n",
        "\r\n",
        "# sequence 1: quiet, 5, (5, 6, 4), (6, 2, 8), (2, 1, 3)\r\n",
        "dot_sequence[0, 0, :] = torch.zeros(9)\r\n",
        "dot_sequence[0, 1, :] = to_one_hot(5)\r\n",
        "dot_sequence[0, 2, :] = to_one_hot(5) + to_one_hot(6) + to_one_hot(4)\r\n",
        "dot_sequence[0, 3, :] = to_one_hot(6) + to_one_hot(2) + to_one_hot(8)\r\n",
        "dot_sequence[0, 4, :] = to_one_hot(2) + to_one_hot(1) + to_one_hot(3)\r\n",
        "\r\n",
        "# sequence 2: quiet, 5, (5, 4, 6), (4, 2, 8), (2, 3, 1)\r\n",
        "dot_sequence[1, 0, :] = torch.zeros(9)\r\n",
        "dot_sequence[1, 1, :] = to_one_hot(5)\r\n",
        "dot_sequence[1, 2, :] = to_one_hot(5) + to_one_hot(4) + to_one_hot(6)\r\n",
        "dot_sequence[1, 3, :] = to_one_hot(4) + to_one_hot(2) + to_one_hot(8)\r\n",
        "dot_sequence[1, 4, :] = to_one_hot(2) + to_one_hot(3) + to_one_hot(1)\r\n",
        "\r\n",
        "# sequence 3: quiet, 5, (5, 4, 6), (4, 8, 2), (8, 9, 7)\r\n",
        "dot_sequence[2, 0, :] = torch.zeros(9)\r\n",
        "dot_sequence[2, 1, :] = to_one_hot(5)\r\n",
        "dot_sequence[2, 2, :] = to_one_hot(5) + to_one_hot(4) + to_one_hot(6)\r\n",
        "dot_sequence[2, 3, :] = to_one_hot(4) + to_one_hot(2) + to_one_hot(8)\r\n",
        "dot_sequence[2, 4, :] = to_one_hot(8) + to_one_hot(9) + to_one_hot(7)\r\n",
        "\r\n",
        "# sequence 4: quiet, 5, (5, 6, 4), (6, 8, 2), (8, 7, 9)\r\n",
        "dot_sequence[3, 0, :] = torch.zeros(9)\r\n",
        "dot_sequence[3, 1, :] = to_one_hot(5)\r\n",
        "dot_sequence[3, 2, :] = to_one_hot(5) + to_one_hot(6) + to_one_hot(4)\r\n",
        "dot_sequence[3, 3, :] = to_one_hot(6) + to_one_hot(2) + to_one_hot(8)\r\n",
        "dot_sequence[3, 4, :] = to_one_hot(8) + to_one_hot(7) + to_one_hot(9)\r\n",
        "\r\n",
        "# sequence 5: quiet, 5, (5, 6, 4), (6, 2, 8), (2, 3, 1)\r\n",
        "dot_sequence[4, 0, :] = torch.zeros(9)\r\n",
        "dot_sequence[4, 1, :] = to_one_hot(5)\r\n",
        "dot_sequence[4, 2, :] = to_one_hot(5) + to_one_hot(6) + to_one_hot(4)\r\n",
        "dot_sequence[4, 3, :] = to_one_hot(6) + to_one_hot(2) + to_one_hot(8)\r\n",
        "dot_sequence[4, 4, :] = to_one_hot(2) + to_one_hot(3) + to_one_hot(1)\r\n",
        "\r\n",
        "# sequence 6: quiet, 5, (5, 4, 6), (4, 2, 8), (2, 1, 3)\r\n",
        "dot_sequence[5, 0, :] = torch.zeros(9)\r\n",
        "dot_sequence[5, 1, :] = to_one_hot(5)\r\n",
        "dot_sequence[5, 2, :] = to_one_hot(5) + to_one_hot(4) + to_one_hot(6)\r\n",
        "dot_sequence[5, 3, :] = to_one_hot(4) + to_one_hot(2) + to_one_hot(8)\r\n",
        "dot_sequence[5, 4, :] = to_one_hot(2) + to_one_hot(1) + to_one_hot(3)\r\n",
        "\r\n",
        "# sequence 7: quiet, 5, (5, 4, 6), (4, 8, 2), (8, 7, 9)\r\n",
        "dot_sequence[6, 0, :] = torch.zeros(9)\r\n",
        "dot_sequence[6, 1, :] = to_one_hot(5)\r\n",
        "dot_sequence[6, 2, :] = to_one_hot(5) + to_one_hot(4) + to_one_hot(6)\r\n",
        "dot_sequence[6, 3, :] = to_one_hot(4) + to_one_hot(8) + to_one_hot(2)\r\n",
        "dot_sequence[6, 4, :] = to_one_hot(8) + to_one_hot(7) + to_one_hot(9)\r\n",
        "\r\n",
        "# sequence 8: quiet, 5, (5, 6, 4), (6, 8, 2), (8, 9, 7)\r\n",
        "dot_sequence[7, 0, :] = torch.zeros(9)\r\n",
        "dot_sequence[7, 1, :] = to_one_hot(5)\r\n",
        "dot_sequence[7, 2, :] = to_one_hot(5) + to_one_hot(6) + to_one_hot(4)\r\n",
        "dot_sequence[7, 3, :] = to_one_hot(6) + to_one_hot(8) + to_one_hot(2)\r\n",
        "dot_sequence[7, 4, :] = to_one_hot(8) + to_one_hot(9) + to_one_hot(7)\r\n",
        "\r\n",
        "seq_exe = torch.randint(0, 8, (100, 1))\r\n",
        "\r\n",
        "def to_one_hot_seq(input_num):\r\n",
        "    one_hot_seq = torch.zeros(8)\r\n",
        "    one_hot_seq[input_num] = 1\r\n",
        "    \r\n",
        "    return one_hot_seq\r\n",
        "\r\n",
        "for i in range(100):\r\n",
        "    for j in range(5):\r\n",
        "        SEQ_dataset[i, j, 9:17] = to_one_hot_seq(seq_exe[i, 0])\r\n",
        "\r\n",
        "for trial in range(number_of_trials):\r\n",
        "    number = seq_exe[trial, 0]\r\n",
        "    SEQ_dataset[trial, :, 0:9] = dot_sequence[number, :, :]\r\n",
        "    SEQ_target[trial, :, 0] = seq_x[number, :]\r\n",
        "    SEQ_target[trial, :, 1] = seq_y[number, :]"
      ],
      "outputs": [],
      "metadata": {
        "id": "OMdf763P7LwP",
        "colab_type": "code",
        "colab": {}
      }
    },
    {
      "cell_type": "code",
      "execution_count": null,
      "source": [
        "plt.imshow(SEQ_dataset[1, :, :])\r\n",
        "plt.title('input sample for Sequence execution')"
      ],
      "outputs": [
        {
          "output_type": "execute_result",
          "data": {
            "text/plain": [
              "Text(0.5, 1.0, 'input sample for Sequence execution')"
            ]
          },
          "metadata": {
            "tags": []
          },
          "execution_count": 17
        },
        {
          "output_type": "display_data",
          "data": {
            "image/png": "[encoded data removed]",
            "text/plain": [
              "<Figure size 432x288 with 1 Axes>"
            ]
          },
          "metadata": {
            "tags": []
          }
        }
      ],
      "metadata": {
        "id": "JFO63Gfl7QmZ",
        "colab_type": "code",
        "outputId": "30a164ac-27b3-4631-daeb-d20a9b64d0d8",
        "colab": {
          "base_uri": "https://localhost:8080/",
          "height": 178
        }
      }
    },
    {
      "cell_type": "code",
      "execution_count": null,
      "source": [
        "number_of_hidden = 20\r\n",
        "lr = 0.01\r\n",
        "net = rectifiedRNN(17, number_of_hidden, 2)\r\n",
        "number_of_epochs = 15\r\n",
        "optimizer = optim.Adam(net.parameters(), lr)\r\n",
        "criterion = nn.MSELoss()"
      ],
      "outputs": [],
      "metadata": {
        "id": "prySggOZ7SuT",
        "colab_type": "code",
        "colab": {}
      }
    },
    {
      "cell_type": "code",
      "execution_count": null,
      "source": [
        "loss_list = list()\r\n",
        "\r\n",
        "for epoch in range(number_of_epochs):\r\n",
        "  for trial in range(number_of_trials):\r\n",
        "    hidden = torch.zeros(number_of_hidden)\r\n",
        "    for move in range(5):\r\n",
        "      optimizer.zero_grad()\r\n",
        "      for t in range(10):\r\n",
        "        output, hidden = net(SEQ_dataset[trial, move, :], hidden)\r\n",
        "        loss = criterion(output, SEQ_target[trial, move, :])\r\n",
        "        hidden.detach_()\r\n",
        "        loss.backward()\r\n",
        "      optimizer.step()\r\n",
        "      loss_list.append(loss.data)\r\n",
        "#     print('trial : ', trial)"
      ],
      "outputs": [],
      "metadata": {
        "id": "Oc2yEv4D8N0q",
        "colab_type": "code",
        "colab": {}
      }
    },
    {
      "cell_type": "code",
      "execution_count": null,
      "source": [
        "plt.plot(loss_list)"
      ],
      "outputs": [
        {
          "output_type": "execute_result",
          "data": {
            "text/plain": [
              "[<matplotlib.lines.Line2D at 0x7f09a04db9b0>]"
            ]
          },
          "metadata": {
            "tags": []
          },
          "execution_count": 12
        },
        {
          "output_type": "display_data",
          "data": {
            "image/png": "[encoded data removed]",
            "text/plain": [
              "<Figure size 432x288 with 1 Axes>"
            ]
          },
          "metadata": {
            "tags": []
          }
        }
      ],
      "metadata": {
        "id": "To4BCnHL9pMJ",
        "colab_type": "code",
        "outputId": "fe3a91f7-23fe-4a4a-99ce-650415506835",
        "colab": {
          "base_uri": "https://localhost:8080/",
          "height": 286
        }
      }
    },
    {
      "cell_type": "code",
      "execution_count": null,
      "source": [
        "# loss_list = list()\r\n",
        "output_list_x = list()\r\n",
        "output_list_y = list()\r\n",
        "\r\n",
        "# for epoch in range(number_of_epochs):\r\n",
        "for trial in range(number_of_trials):\r\n",
        "  hidden = torch.zeros(number_of_hidden)\r\n",
        "  for move in range(5):\r\n",
        "#       optimizer.zero_grad()\r\n",
        "#       for t in range(10):\r\n",
        "    output, hidden = net(SEQ_dataset[trial, move, :], hidden)\r\n",
        "#         loss = criterion(output, SEQ_target[trial, move, :])\r\n",
        "    hidden.detach_()\r\n",
        "    output_list_x.append(output[0].data.numpy())\r\n",
        "    output_list_y.append(output[1].data.numpy())\r\n",
        "#         loss.backward()\r\n",
        "#       optimizer.step()\r\n",
        "#       loss_list.append(loss.data)\r\n",
        "#     print('trial : ', trial)"
      ],
      "outputs": [],
      "metadata": {
        "id": "1xh4Eg7V-JV9",
        "colab_type": "code",
        "colab": {}
      }
    },
    {
      "cell_type": "code",
      "execution_count": null,
      "source": [
        "plt.plot(output_list_x[9 * 5: 10 * 5])\r\n",
        "plt.plot(SEQ_target[9, :, 0].numpy())\r\n",
        "plt.title('output and target X coordinates for a test data')\r\n",
        "plt.legend(['output data', 'target data'])"
      ],
      "outputs": [
        {
          "output_type": "execute_result",
          "data": {
            "text/plain": [
              "<matplotlib.legend.Legend at 0x7f09a01dee80>"
            ]
          },
          "metadata": {
            "tags": []
          },
          "execution_count": 20
        },
        {
          "output_type": "display_data",
          "data": {
            "image/png": "[encoded data removed]",
            "text/plain": [
              "<Figure size 432x288 with 1 Axes>"
            ]
          },
          "metadata": {
            "tags": []
          }
        }
      ],
      "metadata": {
        "id": "i_LC-U9p-yRk",
        "colab_type": "code",
        "outputId": "973ea792-12be-4f76-9d1c-5826e575f060",
        "colab": {
          "base_uri": "https://localhost:8080/",
          "height": 298
        }
      }
    },
    {
      "cell_type": "code",
      "execution_count": null,
      "source": [
        "plt.plot(output_list_y[9 * 5: 10 * 5])\r\n",
        "plt.plot(SEQ_target[9, :, 1].numpy())\r\n",
        "plt.title('output and target Y coordinates for a test data')\r\n",
        "plt.legend(['output data', 'target data'])"
      ],
      "outputs": [
        {
          "output_type": "execute_result",
          "data": {
            "text/plain": [
              "<matplotlib.legend.Legend at 0x7f09a01c7e48>"
            ]
          },
          "metadata": {
            "tags": []
          },
          "execution_count": 21
        },
        {
          "output_type": "display_data",
          "data": {
            "image/png": "[encoded data removed]",
            "text/plain": [
              "<Figure size 432x288 with 1 Axes>"
            ]
          },
          "metadata": {
            "tags": []
          }
        }
      ],
      "metadata": {
        "id": "d8u_sB36-6HB",
        "colab_type": "code",
        "outputId": "c6590fbe-a36b-4e35-cfca-79cc1994e5f1",
        "colab": {
          "base_uri": "https://localhost:8080/",
          "height": 298
        }
      }
    },
    {
      "cell_type": "code",
      "execution_count": null,
      "source": [
        "layers = [x.data for x in net.parameters()]\r\n",
        "plt.imshow(layers[2].numpy())\r\n",
        "plt.title('network weight matrix')"
      ],
      "outputs": [
        {
          "output_type": "execute_result",
          "data": {
            "text/plain": [
              "Text(0.5, 1.0, 'network weight matrix')"
            ]
          },
          "metadata": {
            "tags": []
          },
          "execution_count": 22
        },
        {
          "output_type": "display_data",
          "data": {
            "image/png": "[encoded data removed]",
            "text/plain": [
              "<Figure size 432x288 with 1 Axes>"
            ]
          },
          "metadata": {
            "tags": []
          }
        }
      ],
      "metadata": {
        "id": "624g9WXBCnx1",
        "colab_type": "code",
        "outputId": "240d750b-9232-4161-e28d-49b31ae83271",
        "colab": {
          "base_uri": "https://localhost:8080/",
          "height": 298
        }
      }
    },
    {
      "cell_type": "code",
      "execution_count": null,
      "source": [],
      "outputs": [],
      "metadata": {
        "id": "UIGq-H3fG0sC",
        "colab_type": "code",
        "colab": {}
      }
    }
  ]
}